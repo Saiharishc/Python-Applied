{
 "cells": [
  {
   "cell_type": "code",
   "execution_count": 3,
   "metadata": {},
   "outputs": [
    {
     "data": {
      "text/plain": [
       "[34,\n",
       " 0,\n",
       " 23,\n",
       " 35,\n",
       " 2,\n",
       " 27,\n",
       " 10,\n",
       " 39,\n",
       " 19,\n",
       " 21,\n",
       " 6,\n",
       " 8,\n",
       " 14,\n",
       " 15,\n",
       " 31,\n",
       " 30,\n",
       " 11,\n",
       " 37,\n",
       " 20,\n",
       " 7,\n",
       " 28,\n",
       " 3,\n",
       " 4,\n",
       " 38,\n",
       " 26,\n",
       " 13,\n",
       " 9,\n",
       " 32,\n",
       " 24,\n",
       " 22,\n",
       " 29,\n",
       " 25,\n",
       " 5,\n",
       " 36,\n",
       " 16,\n",
       " 18,\n",
       " 12,\n",
       " 17,\n",
       " 1,\n",
       " 33]"
      ]
     },
     "execution_count": 3,
     "metadata": {},
     "output_type": "execute_result"
    }
   ],
   "source": [
    "import numpy as np\n",
    "import random\n",
    "l=list(range(40))\n",
    "random.shuffle(l)\n",
    "l"
   ]
  },
  {
   "cell_type": "code",
   "execution_count": 5,
   "metadata": {},
   "outputs": [
    {
     "name": "stdout",
     "output_type": "stream",
     "text": [
      "found\n"
     ]
    }
   ],
   "source": [
    "#search for an element q in the list :o(n) where n is length of list\n",
    "q=31\n",
    "isFound=False;\n",
    "for ele in l:\n",
    "    if ele==31:\n",
    "        print('found')\n",
    "        isFound=True\n",
    "        break;\n",
    "if isFound==False:\n",
    "    print('not found')"
   ]
  },
  {
   "cell_type": "code",
   "execution_count": null,
   "metadata": {},
   "outputs": [],
   "source": []
  },
  {
   "cell_type": "code",
   "execution_count": 6,
   "metadata": {},
   "outputs": [],
   "source": [
    "#Binary search"
   ]
  },
  {
   "cell_type": "code",
   "execution_count": 7,
   "metadata": {},
   "outputs": [],
   "source": [
    "import math"
   ]
  },
  {
   "cell_type": "code",
   "execution_count": 12,
   "metadata": {},
   "outputs": [
    {
     "data": {
      "text/plain": [
       "31"
      ]
     },
     "execution_count": 12,
     "metadata": {},
     "output_type": "execute_result"
    }
   ],
   "source": [
    "def binarySearch(arr,l,r,x):\n",
    "    if r>=l:\n",
    "        mid=l+math.floor((r-l)/2)\n",
    "        #if element present in middle itself\n",
    "        if arr[mid] == x:\n",
    "            return mid\n",
    "        #if element is smaller than mid, then it can only be present in left sub array\n",
    "        elif arr[mid]>x:\n",
    "            return binarySearch(arr,l,mid-1,x)\n",
    "        #if element present in right sub array\n",
    "        else:\n",
    "            return binarySearch(arr,mid+1,r,x)\n",
    "    else:\n",
    "        #element is not present in the array\n",
    "        return -1\n",
    "    \n",
    "l.sort();\n",
    "arr =l;\n",
    "q=31;\n",
    "binarySearch(arr,0,len(arr)-1,q)"
   ]
  },
  {
   "cell_type": "code",
   "execution_count": 13,
   "metadata": {},
   "outputs": [
    {
     "name": "stdout",
     "output_type": "stream",
     "text": [
      "1\n"
     ]
    }
   ],
   "source": [
    "print(binarySearch([0,10,20,30,40],0,4,10))"
   ]
  },
  {
   "cell_type": "code",
   "execution_count": 14,
   "metadata": {},
   "outputs": [
    {
     "name": "stdout",
     "output_type": "stream",
     "text": [
      "21\n",
      "13\n",
      "41\n",
      "48\n",
      "25\n",
      "46\n",
      "29\n",
      "33\n",
      "5\n",
      "20\n",
      "45\n",
      "12\n",
      "18\n",
      "15\n",
      "26\n",
      "22\n",
      "30\n",
      "44\n",
      "27\n",
      "38\n",
      "28\n",
      "6\n",
      "47\n",
      "49\n",
      "24\n",
      "8\n",
      "2\n",
      "4\n",
      "11\n",
      "36\n",
      "10\n",
      "32\n",
      "14\n",
      "1\n",
      "37\n",
      "3\n",
      "19\n",
      "23\n",
      "43\n",
      "9\n",
      "35\n",
      "31\n",
      "17\n",
      "42\n",
      "40\n",
      "16\n",
      "0\n",
      "39\n",
      "7\n",
      "34\n",
      "number of common elements 50\n"
     ]
    }
   ],
   "source": [
    "#find elements common in two lists\n",
    "l1=list(range(100))\n",
    "random.shuffle(l1)\n",
    "l2=list(range(50))\n",
    "random.shuffle(l2)\n",
    "\n",
    "#find common elements :O(n*m)\n",
    "cnt=0\n",
    "for i in l1:\n",
    "    for j in l2:\n",
    "        if i==j:\n",
    "            print(i)\n",
    "            cnt+=1;\n",
    "            \n",
    "print(\"number of common elements\",cnt)"
   ]
  },
  {
   "cell_type": "code",
   "execution_count": 15,
   "metadata": {},
   "outputs": [
    {
     "name": "stdout",
     "output_type": "stream",
     "text": [
      "49\n",
      "44\n",
      "24\n",
      "28\n",
      "47\n",
      "21\n",
      "45\n",
      "4\n",
      "27\n",
      "19\n",
      "5\n",
      "37\n",
      "13\n",
      "0\n",
      "30\n",
      "6\n",
      "46\n",
      "23\n",
      "7\n",
      "16\n",
      "36\n",
      "48\n",
      "33\n",
      "2\n",
      "40\n",
      "32\n",
      "35\n",
      "9\n",
      "41\n",
      "10\n",
      "14\n",
      "42\n",
      "20\n",
      "22\n",
      "38\n",
      "18\n",
      "8\n",
      "25\n",
      "12\n",
      "1\n",
      "26\n",
      "15\n",
      "3\n",
      "17\n",
      "31\n",
      "11\n",
      "29\n",
      "43\n",
      "34\n",
      "39\n",
      "No of common elements: 50\n"
     ]
    }
   ],
   "source": [
    "#find elements common in two lists\n",
    "l1=list(range(100))\n",
    "random.shuffle(l1)\n",
    "l2=list(range(50))\n",
    "random.shuffle(l2)\n",
    "\n",
    "#find common elements in lists in O(n) time and O(m) space if m<n\n",
    "\n",
    "#add all the elements in the smallest list into a hashtable/Dict: O(m) space\n",
    "smallest={}\n",
    "for ele in l2:\n",
    "    smallest[ele]=1; #any value is OK. Key is important\n",
    "    \n",
    "#Now find the common element\n",
    "cnt=0\n",
    "for i in l1:\n",
    "    if smallest.get(i) !=None:\n",
    "        print(i)\n",
    "        cnt+=1\n",
    "        \n",
    "print(\"No of common elements:\",cnt)"
   ]
  },
  {
   "cell_type": "code",
   "execution_count": null,
   "metadata": {},
   "outputs": [],
   "source": []
  }
 ],
 "metadata": {
  "kernelspec": {
   "display_name": "Python 3",
   "language": "python",
   "name": "python3"
  },
  "language_info": {
   "codemirror_mode": {
    "name": "ipython",
    "version": 3
   },
   "file_extension": ".py",
   "mimetype": "text/x-python",
   "name": "python",
   "nbconvert_exporter": "python",
   "pygments_lexer": "ipython3",
   "version": "3.7.3"
  }
 },
 "nbformat": 4,
 "nbformat_minor": 2
}
